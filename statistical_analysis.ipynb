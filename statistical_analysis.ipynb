{
 "cells": [
  {
   "cell_type": "code",
   "execution_count": 4,
   "metadata": {},
   "outputs": [],
   "source": [
    "import sklearn\n",
    "import numpy as np\n",
    "import pandas as pd\n",
    "from numpy import std, mean, sqrt\n",
    "from sklearn.model_selection import train_test_split\n",
    "import matplotlib.pyplot as plt\n",
    "from scipy.stats import ttest_ind, mannwhitneyu, wilcoxon\n"
   ]
  },
  {
   "cell_type": "code",
   "execution_count": 12,
   "metadata": {},
   "outputs": [],
   "source": [
    "def cohen_d(x,y):\n",
    "    nx = len(x)\n",
    "    ny = len(y)\n",
    "    dof = nx + ny - 2\n",
    "    return (mean(x) - mean(y)) / sqrt(((nx-1)*std(x, ddof=1) ** 2 + (ny-1)*std(y, ddof=1) ** 2) / dof)"
   ]
  },
  {
   "cell_type": "code",
   "execution_count": 13,
   "metadata": {},
   "outputs": [],
   "source": [
    "top20 = [\"panelb_ca125\", \n",
    "         \"panelb_he4\",\n",
    "         \"panelc_ca125_log\",\n",
    "         \"panelc_ca125\",\n",
    "         \"panelc_he4_log\",\n",
    "         \"panela_ca_125\",\n",
    "         \"panelc_he4\",\n",
    "         \"panelb_ca72_4\",\n",
    "         \"panelc_slpi\",\n",
    "         \"panela_mif\",\n",
    "         \"paneld_ctap\",\n",
    "         \"paneld_b2m\",\n",
    "         \"panelb_ov_110\",\n",
    "         \"panelb_klk6\",\n",
    "         \"panelc_spondin2_log\",\n",
    "         \"panelb_ca15_3\",\n",
    "         \"paneld_hepc\",\n",
    "         \"panele_mmp_3\",\n",
    "         \"paneld_apo\",\n",
    "         \"paneld_tt\"]"
   ]
  },
  {
   "cell_type": "code",
   "execution_count": 14,
   "metadata": {},
   "outputs": [],
   "source": [
    "DATA = pd.read_csv(\"PLCO.csv\")\n",
    "DATA = DATA[top20+[\"is_case\"]]\n",
    "DATA = DATA.dropna()"
   ]
  },
  {
   "cell_type": "code",
   "execution_count": 15,
   "metadata": {},
   "outputs": [],
   "source": [
    "X, Y = DATA.drop([\"is_case\"], axis=1), DATA[\"is_case\"]"
   ]
  },
  {
   "cell_type": "code",
   "execution_count": 16,
   "metadata": {},
   "outputs": [],
   "source": [
    "CASE = DATA[DATA[\"is_case\"]==1][top20]\n",
    "HEALTHY = DATA[DATA[\"is_case\"]==0][top20]"
   ]
  },
  {
   "cell_type": "code",
   "execution_count": 17,
   "metadata": {},
   "outputs": [],
   "source": [
    "case_panelb_ca125 = CASE[\"paneld_tt\"]\n",
    "healthy_panelb_ca125 = HEALTHY[\"paneld_tt\"]"
   ]
  },
  {
   "cell_type": "code",
   "execution_count": null,
   "metadata": {},
   "outputs": [],
   "source": []
  },
  {
   "cell_type": "code",
   "execution_count": 18,
   "metadata": {},
   "outputs": [
    {
     "data": {
      "text/plain": [
       "0.0018347953583825703"
      ]
     },
     "execution_count": 18,
     "metadata": {},
     "output_type": "execute_result"
    }
   ],
   "source": [
    "cohen_d(case_panelb_ca125, healthy_panelb_ca125)"
   ]
  },
  {
   "cell_type": "code",
   "execution_count": 21,
   "metadata": {},
   "outputs": [],
   "source": [
    "def process(feature):\n",
    "    feature = [v**(-0.215) for v in feature]\n",
    "    return feature\n",
    "\n",
    "def scatter_one_feature(feature_name, data):\n",
    "    feature = data[feature_name]\n",
    "    \n",
    "    feature = process(feature)\n",
    "    \n",
    "    plt.figure(figsize=(15, 5))\n",
    "    plt.hist(feature, bins=10)\n",
    "    plt.xlabel(\"Instance Number\", fontsize=18)\n",
    "    plt.ylabel(\"Value\", fontsize=18)\n",
    "    plt.show()"
   ]
  },
  {
   "cell_type": "code",
   "execution_count": 22,
   "metadata": {},
   "outputs": [
    {
     "data": {
      "image/png": "[encoded data removed]",
      "text/plain": [
       "<Figure size 1500x500 with 1 Axes>"
      ]
     },
     "metadata": {},
     "output_type": "display_data"
    }
   ],
   "source": [
    "scatter_one_feature(\"panelb_ca125\", HEALTHY)"
   ]
  },
  {
   "cell_type": "code",
   "execution_count": null,
   "metadata": {},
   "outputs": [],
   "source": []
  },
  {
   "cell_type": "code",
   "execution_count": 23,
   "metadata": {},
   "outputs": [
    {
     "data": {
      "text/plain": [
       "Ttest_indResult(statistic=0.01838528102241966, pvalue=0.985335118512801)"
      ]
     },
     "execution_count": 23,
     "metadata": {},
     "output_type": "execute_result"
    }
   ],
   "source": [
    "ttest_ind(case_panelb_ca125, healthy_panelb_ca125)"
   ]
  },
  {
   "cell_type": "code",
   "execution_count": 24,
   "metadata": {},
   "outputs": [
    {
     "data": {
      "text/plain": [
       "MannwhitneyuResult(statistic=50279.0, pvalue=0.8308120907080443)"
      ]
     },
     "execution_count": 24,
     "metadata": {},
     "output_type": "execute_result"
    }
   ],
   "source": [
    "mannwhitneyu(case_panelb_ca125, healthy_panelb_ca125)"
   ]
  },
  {
   "cell_type": "code",
   "execution_count": 25,
   "metadata": {},
   "outputs": [],
   "source": [
    "top5 = [\"panelb_ca125\", \n",
    "         \"panelb_he4\",\n",
    "         \"panelc_ca125_log\",\n",
    "         \"panelc_ca125\",\n",
    "         \"panelc_he4_log\"]\n",
    "\n",
    "bottom5 = [\"panelb_ca15_3\",\n",
    "         \"paneld_hepc\",\n",
    "         \"panele_mmp_3\",\n",
    "         \"paneld_apo\",\n",
    "         \"paneld_tt\"]"
   ]
  },
  {
   "cell_type": "code",
   "execution_count": 26,
   "metadata": {},
   "outputs": [],
   "source": [
    "values = {}\n",
    "for f in top5 + bottom5:\n",
    "    case_measure, healthy_measure = CASE[f], HEALTHY[f]\n",
    "    values[f] = (mannwhitneyu(case_measure, healthy_measure), cohen_d(case_measure, healthy_measure))"
   ]
  },
  {
   "cell_type": "code",
   "execution_count": 27,
   "metadata": {},
   "outputs": [
    {
     "data": {
      "text/plain": [
       "{'panelb_ca125': (MannwhitneyuResult(statistic=68726.5, pvalue=1.2610698443825584e-09),\n",
       "  1.0136157106480843),\n",
       " 'panelb_he4': (MannwhitneyuResult(statistic=73728.5, pvalue=7.438843451943191e-15),\n",
       "  1.3068992749062682),\n",
       " 'panelc_ca125_log': (MannwhitneyuResult(statistic=70504.0, pvalue=2.373108216835132e-11),\n",
       "  1.3286714095313037),\n",
       " 'panelc_ca125': (MannwhitneyuResult(statistic=70504.0, pvalue=2.373108216835132e-11),\n",
       "  0.8451507661421163),\n",
       " 'panelc_he4_log': (MannwhitneyuResult(statistic=67741.5, pvalue=9.436033123098185e-09),\n",
       "  1.0268968664583873),\n",
       " 'panelb_ca15_3': (MannwhitneyuResult(statistic=61554.5, pvalue=0.00028528707354338195),\n",
       "  0.647712873446164),\n",
       " 'paneld_hepc': (MannwhitneyuResult(statistic=50504.0, pvalue=0.8910404018079618),\n",
       "  0.039712894740100424),\n",
       " 'panele_mmp_3': (MannwhitneyuResult(statistic=47942.0, pvalue=0.3124801800416487),\n",
       "  -0.02847014441330779),\n",
       " 'paneld_apo': (MannwhitneyuResult(statistic=49313.0, pvalue=0.5872400398938962),\n",
       "  -0.012133790049681181),\n",
       " 'paneld_tt': (MannwhitneyuResult(statistic=50279.0, pvalue=0.8308120907080443),\n",
       "  0.0018347953583825703)}"
      ]
     },
     "execution_count": 27,
     "metadata": {},
     "output_type": "execute_result"
    }
   ],
   "source": [
    "values"
   ]
  },
  {
   "cell_type": "code",
   "execution_count": 28,
   "metadata": {},
   "outputs": [],
   "source": [
    "p_value_ranks = {}\n",
    "for col in top20:\n",
    "    healthy = HEALTHY[col]\n",
    "    case = CASE[col]\n",
    "    p_value_ranks[col] = mannwhitneyu(healthy, case).pvalue\n"
   ]
  },
  {
   "cell_type": "code",
   "execution_count": 29,
   "metadata": {},
   "outputs": [],
   "source": [
    "p_value_ranks = [k for k, v in sorted(p_value_ranks.items(), key=lambda x: x[1])]"
   ]
  },
  {
   "cell_type": "code",
   "execution_count": 30,
   "metadata": {},
   "outputs": [
    {
     "data": {
      "text/plain": [
       "['panelb_he4',\n",
       " 'panela_ca_125',\n",
       " 'panelc_ca125_log',\n",
       " 'panelc_ca125',\n",
       " 'panelb_ca125',\n",
       " 'panelc_he4_log',\n",
       " 'panelc_he4',\n",
       " 'panelb_ca72_4',\n",
       " 'panelb_klk6',\n",
       " 'panelb_ca15_3',\n",
       " 'panelb_ov_110',\n",
       " 'panela_mif',\n",
       " 'panelc_spondin2_log',\n",
       " 'panelc_slpi',\n",
       " 'panele_mmp_3',\n",
       " 'paneld_b2m',\n",
       " 'paneld_apo',\n",
       " 'paneld_ctap',\n",
       " 'paneld_tt',\n",
       " 'paneld_hepc']"
      ]
     },
     "execution_count": 30,
     "metadata": {},
     "output_type": "execute_result"
    }
   ],
   "source": [
    "p_value_ranks"
   ]
  },
  {
   "cell_type": "code",
   "execution_count": 31,
   "metadata": {},
   "outputs": [],
   "source": [
    "shapley_ranks = top20"
   ]
  },
  {
   "cell_type": "code",
   "execution_count": 32,
   "metadata": {},
   "outputs": [],
   "source": [
    "p_ranks_num = []\n",
    "for r in shapley_ranks:\n",
    "    p_ranks_num.append(p_value_ranks.index(r))"
   ]
  },
  {
   "cell_type": "code",
   "execution_count": 33,
   "metadata": {},
   "outputs": [
    {
     "data": {
      "text/plain": [
       "[4, 0, 2, 3, 5, 1, 6, 7, 13, 11, 17, 15, 10, 8, 12, 9, 19, 14, 16, 18]"
      ]
     },
     "execution_count": 33,
     "metadata": {},
     "output_type": "execute_result"
    }
   ],
   "source": [
    "p_ranks_num"
   ]
  },
  {
   "cell_type": "code",
   "execution_count": 34,
   "metadata": {},
   "outputs": [
    {
     "name": "stderr",
     "output_type": "stream",
     "text": [
      "/opt/conda/lib/python3.10/site-packages/scipy/stats/_morestats.py:3414: UserWarning: Exact p-value calculation does not work if there are zeros. Switching to normal approximation.\n",
      "  warnings.warn(\"Exact p-value calculation does not work if there are \"\n"
     ]
    }
   ],
   "source": [
    "wilcoxon_val = wilcoxon(p_ranks_num, range(0, 20))"
   ]
  },
  {
   "cell_type": "code",
   "execution_count": 35,
   "metadata": {},
   "outputs": [
    {
     "data": {
      "text/plain": [
       "WilcoxonResult(statistic=67.5, pvalue=0.9793042128380569)"
      ]
     },
     "execution_count": 35,
     "metadata": {},
     "output_type": "execute_result"
    }
   ],
   "source": [
    "wilcoxon_val"
   ]
  },
  {
   "cell_type": "code",
   "execution_count": 36,
   "metadata": {},
   "outputs": [
    {
     "data": {
      "text/plain": [
       "[0, 1, 2, 3, 4, 5, 6, 7, 8, 9, 10, 11, 12, 13, 14, 15, 16, 17, 18, 19]"
      ]
     },
     "execution_count": 36,
     "metadata": {},
     "output_type": "execute_result"
    }
   ],
   "source": [
    "list(range(0, 20))"
   ]
  },
  {
   "cell_type": "code",
   "execution_count": 37,
   "metadata": {},
   "outputs": [
    {
     "data": {
      "text/plain": [
       "WilcoxonResult(statistic=3.5, pvalue=0.3125)"
      ]
     },
     "execution_count": 37,
     "metadata": {},
     "output_type": "execute_result"
    }
   ],
   "source": [
    "wilcoxon([9, 19, 14, 16, 18], range(15, 20))"
   ]
  },
  {
   "cell_type": "code",
   "execution_count": null,
   "metadata": {},
   "outputs": [],
   "source": []
  }
 ],
 "metadata": {
  "kernelspec": {
   "display_name": "Python 3 (ipykernel)",
   "language": "python",
   "name": "python3"
  },
  "language_info": {
   "codemirror_mode": {
    "name": "ipython",
    "version": 3
   },
   "file_extension": ".py",
   "mimetype": "text/x-python",
   "name": "python",
   "nbconvert_exporter": "python",
   "pygments_lexer": "ipython3",
   "version": "3.10.8"
  }
 },
 "nbformat": 4,
 "nbformat_minor": 4
}
